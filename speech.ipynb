{
 "cells": [
  {
   "cell_type": "code",
   "execution_count": null,
   "metadata": {},
   "outputs": [],
   "source": [
    "#Python 2.x program for Speech Recognition \n",
    "  \n",
    "import speech_recognition as sr \n",
    "  \n",
    "#enter the name of usb microphone that you found \n",
    "#using lsusb \n",
    "#the following name is only used as an example \n",
    "mic_name = \"USB Device 0x46d:0x825: Audio (hw:1, 0)\"\n",
    "#Sample rate is how often values are recorded \n",
    "sample_rate = 48000\n",
    "#Chunk is like a buffer. It stores 2048 samples (bytes of data) \n",
    "#here.  \n",
    "#it is advisable to use powers of 2 such as 1024 or 2048 \n",
    "chunk_size = 2048\n",
    "#Initialize the recognizer \n",
    "r = sr.Recognizer() \n",
    "  \n",
    "#generate a list of all audio cards/microphones \n",
    "mic_list = sr.Microphone.list_microphone_names() \n",
    "  \n",
    "#the following loop aims to set the device ID of the mic that \n",
    "#we specifically want to use to avoid ambiguity. \n",
    "for i, microphone_name in enumerate(mic_list): \n",
    "    if microphone_name == mic_name: \n",
    "        device_id = i \n",
    "  \n",
    "#use the microphone as source for input. Here, we also specify  \n",
    "#which device ID to specifically look for incase the microphone  \n",
    "#is not working, an error will pop up saying \"device_id undefined\" \n",
    "with sr.Microphone(device_index = device_id, sample_rate = sample_rate,  \n",
    "                        chunk_size = chunk_size) as source: \n",
    "    #wait for a second to let the recognizer adjust the  \n",
    "    #energy threshold based on the surrounding noise level \n",
    "    r.adjust_for_ambient_noise(source) \n",
    "    print(\"Say Something\")\n",
    "    #listens for the user's input \n",
    "    audio = r.listen(source) \n",
    "          \n",
    "    try: \n",
    "        text = r.recognize_google(audio) \n",
    "        print(\"you said: \" + text )\n",
    "      \n",
    "    #error occurs when google could not understand what was said \n",
    "      \n",
    "    except sr.UnknownValueError: \n",
    "        print(\"Google Speech Recognition could not understand audio\") \n",
    "      \n",
    "    except sr.RequestError as e: \n",
    "        print(\"Could not request results from Google  Speech Recognition service; {0}\".format(e)) \n"
   ]
  }
 ],
 "metadata": {
  "kernelspec": {
   "display_name": "Python 3",
   "language": "python",
   "name": "python3"
  },
  "language_info": {
   "codemirror_mode": {
    "name": "ipython",
    "version": 3
   },
   "file_extension": ".py",
   "mimetype": "text/x-python",
   "name": "python",
   "nbconvert_exporter": "python",
   "pygments_lexer": "ipython3",
   "version": "3.7.3"
  }
 },
 "nbformat": 4,
 "nbformat_minor": 2
}
